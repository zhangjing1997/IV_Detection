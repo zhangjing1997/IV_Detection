{
 "cells": [
  {
   "cell_type": "code",
   "execution_count": 1,
   "metadata": {},
   "outputs": [],
   "source": [
    "from PIL import Image\n",
    "import os\n",
    "import numpy as np"
   ]
  },
  {
   "cell_type": "code",
   "execution_count": 2,
   "metadata": {},
   "outputs": [],
   "source": [
    "# # change all files from '.png' to '.jpg'\n",
    "# dir = 'data/masks'\n",
    "# for filename in os.listdir(dir):\n",
    "#     if filename.endswith('.png'):\n",
    "#         prefix = filename.split('.png')[0]\n",
    "#         os.rename(dir + '/' + filename, dir + '/' + prefix + '.jpg')"
   ]
  },
  {
   "cell_type": "code",
   "execution_count": 5,
   "metadata": {},
   "outputs": [
    {
     "name": "stdout",
     "output_type": "stream",
     "text": "(504, 747)\n(504, 747)\n(504, 747)\n"
    }
   ],
   "source": [
    "# compare results\n",
    "input_img = Image.open('./data/imgs/9.jpg')\n",
    "mask_img = Image.open('./data/masks/9.jpg')\n",
    "output_img = Image.open('./data/output/9_CP20.jpg')\n",
    "\n",
    "print(input_img.size)\n",
    "print(mask_img.size)\n",
    "print(output_img.size)"
   ]
  },
  {
   "cell_type": "code",
   "execution_count": 6,
   "metadata": {},
   "outputs": [
    {
     "data": {
      "text/plain": "255"
     },
     "execution_count": 6,
     "metadata": {},
     "output_type": "execute_result"
    }
   ],
   "source": [
    "np.max(mask_img)"
   ]
  },
  {
   "cell_type": "code",
   "execution_count": null,
   "metadata": {},
   "outputs": [],
   "source": [
    "from predict import "
   ]
  }
 ],
 "metadata": {
  "kernelspec": {
   "display_name": "Python 3",
   "language": "python",
   "name": "python3"
  },
  "language_info": {
   "codemirror_mode": {
    "name": "ipython",
    "version": 3
   },
   "file_extension": ".py",
   "mimetype": "text/x-python",
   "name": "python",
   "nbconvert_exporter": "python",
   "pygments_lexer": "ipython3",
   "version": "3.6.9-final"
  }
 },
 "nbformat": 4,
 "nbformat_minor": 2
}