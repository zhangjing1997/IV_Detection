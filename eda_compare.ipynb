{
 "nbformat": 4,
 "nbformat_minor": 2,
 "metadata": {
  "language_info": {
   "name": "python",
   "codemirror_mode": {
    "name": "ipython",
    "version": 3
   },
   "version": "3.6.9-final"
  },
  "orig_nbformat": 2,
  "file_extension": ".py",
  "mimetype": "text/x-python",
  "name": "python",
  "npconvert_exporter": "python",
  "pygments_lexer": "ipython3",
  "version": 3,
  "kernelspec": {
   "name": "python36964bitpytorchconda239caafb5f5f4ff1a355334659134c50",
   "display_name": "Python 3.6.9 64-bit ('pytorch': conda)"
  }
 },
 "cells": [
  {
   "cell_type": "code",
   "execution_count": 1,
   "metadata": {},
   "outputs": [],
   "source": [
    "from UNet.unet_model import UNet\n",
    "from UNet.segment import segment_img, mask_to_image\n",
    "from YOLOv3.yolo_model import Darknet\n",
    "from YOLOv3.detect import detect_img"
   ]
  },
  {
   "cell_type": "code",
   "execution_count": 2,
   "metadata": {},
   "outputs": [
    {
     "output_type": "execute_result",
     "data": {
      "text/plain": "[(29, 138), (228, 226), (466, 145)]"
     },
     "metadata": {},
     "execution_count": 2
    }
   ],
   "source": [
    "list = [(228, 226), (29, 138), (466, 145)]\n",
    "sorted(list, key=lambda x: x[0])"
   ]
  },
  {
   "cell_type": "code",
   "execution_count": null,
   "metadata": {},
   "outputs": [],
   "source": []
  }
 ]
}