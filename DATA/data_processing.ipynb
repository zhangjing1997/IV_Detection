{
 "nbformat": 4,
 "nbformat_minor": 2,
 "metadata": {
  "language_info": {
   "name": "python",
   "codemirror_mode": {
    "name": "ipython",
    "version": 3
   },
   "version": "3.6.9-final"
  },
  "orig_nbformat": 2,
  "file_extension": ".py",
  "mimetype": "text/x-python",
  "name": "python",
  "npconvert_exporter": "python",
  "pygments_lexer": "ipython3",
  "version": 3,
  "kernelspec": {
   "name": "python36964bitpytorchconda239caafb5f5f4ff1a355334659134c50",
   "display_name": "Python 3.6.9 64-bit ('pytorch': conda)"
  }
 },
 "cells": [
  {
   "cell_type": "code",
   "execution_count": 1,
   "metadata": {},
   "outputs": [],
   "source": [
    "import xml.etree.ElementTree as ET\n",
    "\n",
    "def xmlToTxt(xml_file, txt_file, img_width=504, img_height=747):\n",
    "    \"\"\"\n",
    "    extract bbox information from xml_file into txt_file\n",
    "    \"\"\"\n",
    "    with open(txt_file, 'w+') as f:\n",
    "        root = ET.parse(xml_file).getroot()\n",
    "        for object in root.findall('./object'):\n",
    "            if object[0].text != 'veins_detect':\n",
    "                continue\n",
    "            bndbox = object[1]\n",
    "            xmin = int(bndbox[0].text)\n",
    "            ymin = int(bndbox[1].text)\n",
    "            xmax = int(bndbox[2].text)\n",
    "            ymax = int(bndbox[3].text)\n",
    "\n",
    "            # print(f'{xmin} {ymin} {xmax} {ymax}')\n",
    "            \n",
    "            xcenter = ((xmin + xmax) / 2.0) / img_width\n",
    "            ycenter = ((ymin + ymax) / 2.0) / img_height\n",
    "            bbox_width = (xmax - xmin) / img_width\n",
    "            bbox_height = (ymax - ymin) / img_height\n",
    "\n",
    "            f.write(f'0 {xcenter} {ycenter} {bbox_width} {bbox_height}\\n') # 0 -> class index in class.names\n",
    "            # print(f'0 {xcenter} {ycenter} {bbox_width} {bbox_height}')\n",
    "\n",
    "# xml_file = './annotations/59.xml'\n",
    "# txt_file = '../YOLOv3/data/custom/labels/invivo_91/59.txt'\n",
    "# xmlToTxt(xml_file, txt_file)"
   ]
  },
  {
   "cell_type": "code",
   "execution_count": 2,
   "metadata": {},
   "outputs": [],
   "source": [
    "import os\n",
    "import shutil\n",
    "\n",
    "def dataTransfer(dataset):\n",
    "    \"\"\"\n",
    "    Split and transfer the raw labelled data into both unet and yolo project directories.\n",
    "    It is required that the function is implemented under DATA directory because we built relative paths.\n",
    "    \"\"\"\n",
    "    # source dir\n",
    "    imgs = os.path.join(dataset, 'imgs')\n",
    "    masks = os.path.join(dataset, 'masks')\n",
    "    annotations = os.path.join(dataset, 'annotations')\n",
    "    # dest dir\n",
    "    imgs_dest_unet = os.path.join('../UNet/data/imgs', dataset); os.makedirs(imgs_dest_unet, exist_ok=True)\n",
    "    masks_dest = os.path.join('../UNet/data/masks', dataset); os.makedirs(masks_dest, exist_ok=True)\n",
    "    imgs_dest_yolo = os.path.join('../YOLOv3/data/custom/images/', dataset); os.makedirs(imgs_dest_yolo, exist_ok=True)\n",
    "    annotations_dest = os.path.join('../YOLOv3/data/custom/labels/', dataset); os.makedirs(annotations_dest, exist_ok=True)\n",
    "\n",
    "    files = os.listdir(masks)\n",
    "    count = 0\n",
    "    for i, fn in enumerate(files):\n",
    "        # if i == 2: break\n",
    "        if not fn.endswith('.jpg'):\n",
    "            continue\n",
    "        count += 1\n",
    "        fn_num = fn[:-4]\n",
    "        \n",
    "        # source filepaths\n",
    "        img_fn = os.path.join(imgs, fn_num + '.jpg')\n",
    "        mask_fn = os.path.join(masks, fn_num + '.jpg')\n",
    "        annotation_fn = os.path.join(annotations, fn_num + '.xml')\n",
    "        print(f'fn: {fn} fn_num: {fn_num} img_fn: {img_fn} mask_fn: {mask_fn} annotation_fn: {annotation_fn}')\n",
    "\n",
    "        # dest filepaths\n",
    "        img_dest_unet = os.path.join(imgs_dest_unet, fn_num + '.jpg')\n",
    "        mask_dest = os.path.join(masks_dest, fn_num + '.jpg')\n",
    "        img_dest_yolo = os.path.join(imgs_dest_yolo, fn_num + '.jpg')\n",
    "        annotation_dest = os.path.join(annotations_dest, fn_num + '.txt')\n",
    "        print(f'img_dest_unet: {img_dest_unet} mask_dest: {mask_dest} img_dest_yolo: {img_dest_yolo} annotation_dest: {annotation_dest}')\n",
    "\n",
    "        # from source to dest\n",
    "        if os.path.isfile(img_fn) and not os.path.isfile(img_dest_unet): \n",
    "            shutil.copyfile(img_fn, img_dest_unet)\n",
    "            print(f'copy from {img_fn} to {img_dest_unet}')\n",
    "        if os.path.isfile(mask_fn) and not os.path.isfile(mask_dest): \n",
    "            shutil.copyfile(mask_fn, mask_dest)\n",
    "            print(f'copy from {mask_fn} to {mask_dest}')\n",
    "        if os.path.isfile(img_fn) and not os.path.isfile(img_dest_yolo):\n",
    "            shutil.copyfile(img_fn, img_dest_yolo)\n",
    "            print(f'copy from {img_fn} to {img_dest_yolo}')\n",
    "        if os.path.isfile(annotation_fn) and not os.path.isfile(annotation_dest):\n",
    "            xmlToTxt(annotation_fn, annotation_dest)\n",
    "            print(f'extract bboxs from {annotation_fn} to {annotation_dest}')\n",
    "        print('')\n",
    "    print(f'Total samples: {count}')"
   ]
  },
  {
   "cell_type": "code",
   "execution_count": 3,
   "metadata": {},
   "outputs": [
    {
     "output_type": "stream",
     "name": "stdout",
     "text": "fn: Phantom.jpg fn_num: Phantom img_fn: phantom_test/imgs/Phantom.jpg mask_fn: phantom_test/masks/Phantom.jpg annotation_fn: phantom_test/annotations/Phantom.xml\nimg_dest_unet: ../UNet/data/imgs/phantom_test/Phantom.jpg mask_dest: ../UNet/data/masks/phantom_test/Phantom.jpg img_dest_yolo: ../YOLOv3/data/custom/images/phantom_test/Phantom.jpg annotation_dest: ../YOLOv3/data/custom/labels/phantom_test/Phantom.txt\ncopy from phantom_test/imgs/Phantom.jpg to ../UNet/data/imgs/phantom_test/Phantom.jpg\ncopy from phantom_test/masks/Phantom.jpg to ../UNet/data/masks/phantom_test/Phantom.jpg\ncopy from phantom_test/imgs/Phantom.jpg to ../YOLOv3/data/custom/images/phantom_test/Phantom.jpg\nextract bboxs from phantom_test/annotations/Phantom.xml to ../YOLOv3/data/custom/labels/phantom_test/Phantom.txt\n\nTotal samples: 1\n"
    }
   ],
   "source": [
    "# dataTransfer('invivo_91')\n",
    "# dataTransfer('phantom_20')\n",
    "dataTransfer('phantom_test')"
   ]
  },
  {
   "cell_type": "code",
   "execution_count": 4,
   "metadata": {},
   "outputs": [
    {
     "output_type": "stream",
     "name": "stdout",
     "text": "fn: 44.jpg fn_num: 44 img_fn: invivo_test/imgs/44.jpg mask_fn: invivo_test/masks/44.jpg annotation_fn: invivo_test/annotations/44.xml\nimg_dest_unet: ../UNet/data/imgs/invivo_test/44.jpg mask_dest: ../UNet/data/masks/invivo_test/44.jpg img_dest_yolo: ../YOLOv3/data/custom/images/invivo_test/44.jpg annotation_dest: ../YOLOv3/data/custom/labels/invivo_test/44.txt\ncopy from invivo_test/imgs/44.jpg to ../UNet/data/imgs/invivo_test/44.jpg\ncopy from invivo_test/masks/44.jpg to ../UNet/data/masks/invivo_test/44.jpg\ncopy from invivo_test/imgs/44.jpg to ../YOLOv3/data/custom/images/invivo_test/44.jpg\nextract bboxs from invivo_test/annotations/44.xml to ../YOLOv3/data/custom/labels/invivo_test/44.txt\n\nfn: 33.jpg fn_num: 33 img_fn: invivo_test/imgs/33.jpg mask_fn: invivo_test/masks/33.jpg annotation_fn: invivo_test/annotations/33.xml\nimg_dest_unet: ../UNet/data/imgs/invivo_test/33.jpg mask_dest: ../UNet/data/masks/invivo_test/33.jpg img_dest_yolo: ../YOLOv3/data/custom/images/invivo_test/33.jpg annotation_dest: ../YOLOv3/data/custom/labels/invivo_test/33.txt\ncopy from invivo_test/imgs/33.jpg to ../UNet/data/imgs/invivo_test/33.jpg\ncopy from invivo_test/masks/33.jpg to ../UNet/data/masks/invivo_test/33.jpg\ncopy from invivo_test/imgs/33.jpg to ../YOLOv3/data/custom/images/invivo_test/33.jpg\nextract bboxs from invivo_test/annotations/33.xml to ../YOLOv3/data/custom/labels/invivo_test/33.txt\n\nfn: 22.jpg fn_num: 22 img_fn: invivo_test/imgs/22.jpg mask_fn: invivo_test/masks/22.jpg annotation_fn: invivo_test/annotations/22.xml\nimg_dest_unet: ../UNet/data/imgs/invivo_test/22.jpg mask_dest: ../UNet/data/masks/invivo_test/22.jpg img_dest_yolo: ../YOLOv3/data/custom/images/invivo_test/22.jpg annotation_dest: ../YOLOv3/data/custom/labels/invivo_test/22.txt\ncopy from invivo_test/imgs/22.jpg to ../UNet/data/imgs/invivo_test/22.jpg\ncopy from invivo_test/masks/22.jpg to ../UNet/data/masks/invivo_test/22.jpg\ncopy from invivo_test/imgs/22.jpg to ../YOLOv3/data/custom/images/invivo_test/22.jpg\nextract bboxs from invivo_test/annotations/22.xml to ../YOLOv3/data/custom/labels/invivo_test/22.txt\n\nfn: 55.jpg fn_num: 55 img_fn: invivo_test/imgs/55.jpg mask_fn: invivo_test/masks/55.jpg annotation_fn: invivo_test/annotations/55.xml\nimg_dest_unet: ../UNet/data/imgs/invivo_test/55.jpg mask_dest: ../UNet/data/masks/invivo_test/55.jpg img_dest_yolo: ../YOLOv3/data/custom/images/invivo_test/55.jpg annotation_dest: ../YOLOv3/data/custom/labels/invivo_test/55.txt\ncopy from invivo_test/imgs/55.jpg to ../UNet/data/imgs/invivo_test/55.jpg\ncopy from invivo_test/masks/55.jpg to ../UNet/data/masks/invivo_test/55.jpg\ncopy from invivo_test/imgs/55.jpg to ../YOLOv3/data/custom/images/invivo_test/55.jpg\nextract bboxs from invivo_test/annotations/55.xml to ../YOLOv3/data/custom/labels/invivo_test/55.txt\n\nfn: 11.jpg fn_num: 11 img_fn: invivo_test/imgs/11.jpg mask_fn: invivo_test/masks/11.jpg annotation_fn: invivo_test/annotations/11.xml\nimg_dest_unet: ../UNet/data/imgs/invivo_test/11.jpg mask_dest: ../UNet/data/masks/invivo_test/11.jpg img_dest_yolo: ../YOLOv3/data/custom/images/invivo_test/11.jpg annotation_dest: ../YOLOv3/data/custom/labels/invivo_test/11.txt\ncopy from invivo_test/imgs/11.jpg to ../UNet/data/imgs/invivo_test/11.jpg\ncopy from invivo_test/masks/11.jpg to ../UNet/data/masks/invivo_test/11.jpg\ncopy from invivo_test/imgs/11.jpg to ../YOLOv3/data/custom/images/invivo_test/11.jpg\nextract bboxs from invivo_test/annotations/11.xml to ../YOLOv3/data/custom/labels/invivo_test/11.txt\n\nTotal samples: 5\n"
    }
   ],
   "source": [
    "dataTransfer('invivo_test')"
   ]
  },
  {
   "cell_type": "code",
   "execution_count": null,
   "metadata": {},
   "outputs": [],
   "source": []
  }
 ]
}